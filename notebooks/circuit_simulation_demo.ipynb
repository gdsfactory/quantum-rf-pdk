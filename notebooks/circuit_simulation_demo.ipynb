{
 "cells": [
  {
   "cell_type": "markdown",
   "id": "0",
   "metadata": {},
   "source": [
    "# Circuit Simulation with QPDK\n",
    "\n",
    "This notebook demonstrates how to perform circuit simulations using the `qpdk` models and the `sax` circuit solver. We will showcase individual components and then combine them to create a custom resonator circuit."
   ]
  },
  {
   "cell_type": "code",
   "execution_count": null,
   "id": "1",
   "metadata": {
    "tags": [
     "hide-input",
     "hide-output"
    ],
    "title": "Imports"
   },
   "outputs": [],
   "source": [
    "import jax.numpy as jnp\n",
    "import sax\n",
    "from matplotlib import pyplot as plt\n",
    "\n",
    "from qpdk.models.generic import capacitor, inductor, tee\n",
    "from qpdk.models.media import cpw_media_skrf\n",
    "from qpdk.models.resonator import quarter_wave_resonator_coupled\n",
    "from qpdk.models.waveguides import straight, straight_shorted"
   ]
  },
  {
   "cell_type": "markdown",
   "id": "2",
   "metadata": {},
   "source": [
    "## Setup\n",
    "\n",
    "First, let's define a frequency range for our simulations and create a coplanar waveguide (CPW) media that defines the transmission line properties."
   ]
  },
  {
   "cell_type": "code",
   "execution_count": null,
   "id": "3",
   "metadata": {},
   "outputs": [],
   "source": [
    "# Define frequency range\n",
    "freq = jnp.linspace(2e9, 8e9, 501)\n",
    "freq_ghz = freq / 1e9\n",
    "\n",
    "# Define CPW media\n",
    "media = cpw_media_skrf(width=10, gap=6)"
   ]
  },
  {
   "cell_type": "markdown",
   "id": "4",
   "metadata": {},
   "source": [
    "## Individual Component Models\n",
    "\n",
    "Let's simulate some of the basic components available in `qpdk`."
   ]
  },
  {
   "cell_type": "markdown",
   "id": "5",
   "metadata": {},
   "source": [
    "### Straight Waveguide\n",
    "Simulate a $1\\,\\textrm{mm}$ straight waveguide"
   ]
  },
  {
   "cell_type": "code",
   "execution_count": null,
   "id": "6",
   "metadata": {},
   "outputs": [],
   "source": [
    "straight_wg = straight(f=freq, length=1000, media=media)\n",
    "\n",
    "# Plot S-parameters\n",
    "plt.figure()\n",
    "plt.title(\"Straight Waveguide S-parameters\")\n",
    "plt.plot(freq_ghz, 20 * jnp.log10(jnp.abs(straight_wg[(\"o1\", \"o2\")])), label=\"$S_{21}$\")\n",
    "plt.plot(freq_ghz, 20 * jnp.log10(jnp.abs(straight_wg[(\"o1\", \"o1\")])), label=\"$S_{11}$\")\n",
    "plt.xlabel(\"Frequency [GHz]\")\n",
    "plt.ylabel(\"Magnitude [dB]\")\n",
    "plt.grid(True)\n",
    "plt.legend()\n",
    "plt.show()"
   ]
  },
  {
   "cell_type": "markdown",
   "id": "7",
   "metadata": {},
   "source": [
    "### Capacitor\n",
    "Simulate a $100\\,\\textrm{fF}$ capacitor"
   ]
  },
  {
   "cell_type": "code",
   "execution_count": null,
   "id": "8",
   "metadata": {},
   "outputs": [],
   "source": [
    "cap_val = 100e-15\n",
    "cap = capacitor(f=freq, capacitance=cap_val, z0=50)\n",
    "\n",
    "# Plot S-parameters\n",
    "plt.figure()\n",
    "plt.title(f\"Capacitor S-parameters (C={cap_val * 1e15:.0f} fF)\")\n",
    "plt.plot(freq_ghz, 20 * jnp.log10(jnp.abs(cap[(\"o1\", \"o2\")])), label=\"$S_{21}$\")\n",
    "plt.plot(freq_ghz, 20 * jnp.log10(jnp.abs(cap[(\"o1\", \"o1\")])), label=\"$S_{11}$\")\n",
    "plt.xlabel(\"Frequency [GHz]\")\n",
    "plt.ylabel(\"Magnitude [dB]\")\n",
    "plt.grid(True)\n",
    "plt.legend()\n",
    "plt.show()"
   ]
  },
  {
   "cell_type": "markdown",
   "id": "9",
   "metadata": {},
   "source": [
    "### Inductor\n",
    "Simulate a $5\\,\\textrm{nH}$ inductor"
   ]
  },
  {
   "cell_type": "code",
   "execution_count": null,
   "id": "10",
   "metadata": {},
   "outputs": [],
   "source": [
    "ind_val = 5e-9\n",
    "ind = inductor(f=freq, inductance=ind_val, z0=50)\n",
    "\n",
    "# Plot S-parameters\n",
    "plt.figure()\n",
    "plt.title(f\"Inductor S-parameters (L={ind_val * 1e9:.0f} nH)\")\n",
    "plt.plot(freq_ghz, 20 * jnp.log10(jnp.abs(ind[(\"o1\", \"o2\")])), label=\"$S_{21}$\")\n",
    "plt.plot(freq_ghz, 20 * jnp.log10(jnp.abs(ind[(\"o1\", \"o1\")])), label=\"$S_{11}$\")\n",
    "plt.xlabel(\"Frequency [GHz]\")\n",
    "plt.ylabel(\"Magnitude [dB]\")\n",
    "plt.grid(True)\n",
    "plt.legend()\n",
    "plt.show()"
   ]
  },
  {
   "cell_type": "markdown",
   "id": "11",
   "metadata": {},
   "source": [
    "## Coupled Resonator Model\n",
    "\n",
    "Now let's use a more complex, pre-built model for a coupled resonator."
   ]
  },
  {
   "cell_type": "code",
   "execution_count": null,
   "id": "12",
   "metadata": {},
   "outputs": [],
   "source": [
    "# Simulate a coupled resonator\n",
    "res = quarter_wave_resonator_coupled(\n",
    "    f=freq,\n",
    "    media=media,\n",
    "    coupling_gap=0.3,\n",
    "    coupling_length=200,\n",
    "    length=5000,\n",
    ")\n",
    "\n",
    "# Plot S-parameters\n",
    "plt.figure()\n",
    "plt.title(\"Coupled Resonator S-parameters\")\n",
    "plt.plot(freq_ghz, 20 * jnp.log10(jnp.abs(res[(\"o1\", \"o3\")])), label=\"$S_{21}$\")\n",
    "plt.xlabel(\"Frequency [GHz]\")\n",
    "plt.ylabel(\"Magnitude [dB]\")\n",
    "plt.grid(True)\n",
    "plt.legend()\n",
    "plt.show()"
   ]
  },
  {
   "cell_type": "markdown",
   "id": "13",
   "metadata": {},
   "source": [
    "## Building a Custom Resonator Circuit\n",
    "\n",
    "We can use `sax` to build our own circuits from basic components. Let's build a quarter-wave resonator capacitively coupled to a feedline.\n",
    "\n",
    "The circuit is a feedline with a T-junction. A series combination of a capacitor and a shorted transmission line (the resonator) is connected to the T-junction as a shunt element."
   ]
  },
  {
   "cell_type": "code",
   "execution_count": null,
   "id": "14",
   "metadata": {},
   "outputs": [],
   "source": [
    "# Define component settings\n",
    "feedline_segment_length = 500  # um\n",
    "resonator_length = 4000  # um\n",
    "coupling_cap_val = 20e-15  # F\n",
    "\n",
    "# Define models for sax circuit\n",
    "models = {\n",
    "    \"straight\": straight,\n",
    "    \"capacitor\": capacitor,\n",
    "    \"straight_shorted\": straight_shorted,\n",
    "    \"tee\": tee,\n",
    "}\n",
    "\n",
    "# Define netlist\n",
    "netlist = {\n",
    "    \"instances\": {\n",
    "        \"feedline1\": {\n",
    "            \"component\": \"straight\",\n",
    "            \"settings\": {\"length\": feedline_segment_length, \"media\": media},\n",
    "        },\n",
    "        \"feedline2\": {\n",
    "            \"component\": \"straight\",\n",
    "            \"settings\": {\"length\": feedline_segment_length, \"media\": media},\n",
    "        },\n",
    "        \"cap\": {\n",
    "            \"component\": \"capacitor\",\n",
    "            \"settings\": {\"capacitance\": coupling_cap_val, \"z0\": 50},\n",
    "        },\n",
    "        \"res\": {\n",
    "            \"component\": \"straight_shorted\",\n",
    "            \"settings\": {\"length\": resonator_length, \"media\": media},\n",
    "        },\n",
    "        \"tee\": \"tee\",\n",
    "    },\n",
    "    \"connections\": {\n",
    "        \"feedline1,o2\": \"tee,o1\",\n",
    "        \"tee,o2\": \"feedline2,o1\",\n",
    "        \"tee,o3\": \"cap,o1\",\n",
    "        \"cap,o2\": \"res,o1\",\n",
    "    },\n",
    "    \"ports\": {\n",
    "        \"o1\": \"feedline1,o1\",\n",
    "        \"o2\": \"feedline2,o2\",\n",
    "    },\n",
    "}\n",
    "\n",
    "# Create and run the circuit\n",
    "custom_resonator_circuit, _ = sax.circuit(netlist=netlist, models=models)\n",
    "custom_res_s_params = custom_resonator_circuit(f=freq)\n",
    "\n",
    "# Plot S-parameters\n",
    "plt.figure()\n",
    "plt.title(\"Custom-built Resonator S-parameters\")\n",
    "plt.plot(\n",
    "    freq_ghz,\n",
    "    20 * jnp.log10(jnp.abs(custom_res_s_params[(\"o1\", \"o2\")])),\n",
    "    label=\"$S_{21}$\",\n",
    ")\n",
    "plt.xlabel(\"Frequency [GHz]\")\n",
    "plt.ylabel(\"Magnitude [dB]\")\n",
    "plt.grid(True)\n",
    "plt.legend()\n",
    "plt.show()"
   ]
  }
 ],
 "metadata": {
  "jupytext": {
   "cell_metadata_filter": "tags,title,-all",
   "main_language": "python",
   "notebook_metadata_filter": "-all"
  },
  "kernelspec": {
   "display_name": "quantum-rf-pdk",
   "language": "python",
   "name": "python3"
  },
  "language_info": {
   "codemirror_mode": {
    "name": "ipython",
    "version": 3
   },
   "file_extension": ".py",
   "mimetype": "text/x-python",
   "name": "python",
   "nbconvert_exporter": "python",
   "pygments_lexer": "ipython3",
   "version": "3.12.11"
  }
 },
 "nbformat": 4,
 "nbformat_minor": 5
}
