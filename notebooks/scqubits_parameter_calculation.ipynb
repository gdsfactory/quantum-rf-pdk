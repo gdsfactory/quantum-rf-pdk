{
 "cells": [
  {
   "cell_type": "markdown",
   "id": "0",
   "metadata": {},
   "source": [
    "# Superconducting Qubit Parameter Calculations with scqubits\n",
    "\n",
    "This example demonstrates how to use [scqubits](https://scqubits.readthedocs.io/en/latest/) {cite:p}`groszkowskiScqubitsPythonPackage2021` to calculate\n",
    "parameters for superconducting qubits and coupled resonators. The calculations help determine\n",
    "physical parameters like capacitances and coupling strengths needed for component design."
   ]
  },
  {
   "cell_type": "code",
   "execution_count": null,
   "id": "1",
   "metadata": {
    "tags": [
     "hide-input",
     "hide-output"
    ]
   },
   "outputs": [],
   "source": [
    "import numpy as np\n",
    "import scipy\n",
    "import scqubits as scq\n",
    "import skrf\n",
    "import sympy as sp\n",
    "from IPython.display import Math, display\n",
    "from matplotlib import pyplot as plt\n",
    "\n",
    "from qpdk.models.resonator import cpw_media_skrf, resonator_frequency"
   ]
  },
  {
   "cell_type": "markdown",
   "id": "2",
   "metadata": {},
   "source": [
    "## TunableTransmon Qubit Parameters\n",
    "\n",
    "A tunable transmon qubit {cite:p}`kochChargeinsensitiveQubitDesign2007a` has a SQUID junction that allows tuning the effective Josephson energy\n",
    "through an external flux. Key parameters include:\n",
    "- $E_{\\text{J}_\\text{max}}$: Maximum Josephson energy when flux = 0\n",
    "- $E_\\text{C}$: Charging energy, related to total capacitance as $E_\\text{C} = \\dfrac{e^2}{2C_\\Sigma}$\n",
    "- $d$: Asymmetry parameter between the two junctions in the SQUID\n",
    "- $\\phi$: External flux in units of flux quantum $\\phi_0$\n",
    "- $\\alpha$: Anharmonicity, the difference between the $E_{1→2}$ and $E_{0→1}$ transition frequencies\n",
    "\n",
    "See the [scqubits documentation](https://scqubits.readthedocs.io/en/latest/guide/qubits/tunable_transmon.html) for more details."
   ]
  },
  {
   "cell_type": "code",
   "execution_count": null,
   "id": "3",
   "metadata": {},
   "outputs": [],
   "source": [
    "# Create a tunable transmon with realistic parameters\n",
    "transmon = scq.TunableTransmon(\n",
    "    EJmax=40.0,  # Maximum Josephson energy in GHz (typical range: 20-50 GHz)\n",
    "    EC=0.2,  # Charging energy in GHz (typical range: 0.1-0.5 GHz)\n",
    "    d=0.1,  # Junction asymmetry (typical range: 0.05-0.2)\n",
    "    flux=0.0,  # Start at flux = 0 (maximum EJ)\n",
    "    ng=0.0,  # Offset charge (usually 0 or 0.5)\n",
    "    ncut=30,  # Charge basis cutoff\n",
    ")\n",
    "\n",
    "# Tunable Transmon Parameters\n",
    "display(\n",
    "    Math(rf\"\"\"\n",
    "\\textbf{{Tunable Transmon Parameters:}} \\\\\n",
    "E_{{J,\\text{{max}}}} = {transmon.EJmax:.1f}\\ \\text{{GHz}} \\\\\n",
    "E_C = {transmon.EC:.1f}\\ \\text{{GHz}} \\\\\n",
    "d = {transmon.d:.2f} \\\\\n",
    "\\text{{Flux}} = {transmon.flux:.2f}\\ \\Phi_0\n",
    "\"\"\")\n",
    ")\n",
    "\n",
    "# Calculate energy levels\n",
    "eigenvals = transmon.eigenvals(evals_count=5)\n",
    "f01 = eigenvals[1] - eigenvals[0]\n",
    "f12 = eigenvals[2] - eigenvals[1]\n",
    "anharmonicity = f12 - f01\n",
    "\n",
    "display(\n",
    "    Math(rf\"\"\"\n",
    "\\textbf{{Transmon Spectrum:}} \\\\\n",
    "0\\rightarrow 1\\ \\text{{frequency}}:\\ \\ {f01:.3f}\\ \\text{{GHz}} \\\\\n",
    "1\\rightarrow 2\\ \\text{{frequency}}:\\ \\ {f12:.3f}\\ \\text{{GHz}} \\\\\n",
    "\\text{{Anharmonicity, }} \\alpha:\\ \\ {anharmonicity:.3f}\\ \\text{{GHz}}\n",
    "\"\"\")\n",
    ")"
   ]
  },
  {
   "cell_type": "markdown",
   "id": "4",
   "metadata": {},
   "source": [
    "## Parameter Sweep: Flux Dependence\n",
    "\n",
    "Demonstrate how the qubit frequency changes with external flux.\n",
    "\n",
    "For more details, see the [scqubits-examples repository](https://github.com/scqubits/scqubits-examples)"
   ]
  },
  {
   "cell_type": "code",
   "execution_count": null,
   "id": "5",
   "metadata": {},
   "outputs": [],
   "source": [
    "# Sweep flux and calculate qubit frequency\n",
    "transmon.plot_evals_vs_paramvals(\n",
    "    \"flux\", np.linspace(-1.1, 1.1, 201), subtract_ground=True\n",
    ")\n",
    "plt.show()\n",
    "transmon.plot_wavefunction(esys=None, which=(0, 1, 2, 3, 8), mode=\"real\")\n",
    "plt.show()"
   ]
  },
  {
   "cell_type": "markdown",
   "id": "6",
   "metadata": {
    "lines_to_next_cell": 2
   },
   "source": [
    "## Coupled Qubit-Resonator System\n",
    "\n",
    "When a transmon is coupled to a resonator, the interaction can be described by\n",
    "the Jaynes-Cummings model {cite:p}`shoreJaynesCummingsModel1993` :\n",
    "```{math}\n",
    ":label: eq:jaynes-cummings\n",
    "\\mathcal{H} = \\omega_r a^{\\dagger} a + \\frac{\\omega_q}{2} \\sigma_z + g (a^{\\dagger} \\sigma^- + a \\sigma^+),\n",
    "```\n",
    "where $\\omega_r$ is the resonator frequency, $\\omega_q$ is the qubit frequency, and $g$ is the coupling strength.\n",
    "The operators $a^{\\dagger}$ and $a$ are the creation and annihilation operators for the resonator,\n",
    "while $\\sigma_z$, $\\sigma^-$, and $\\sigma^+$ are the Pauli and ladder operators for the qubit.\n",
    "\n",
    "The coupling strength $g$ depends on the overlap between\n",
    "the qubit and resonator modes and affects the system dynamics."
   ]
  },
  {
   "cell_type": "code",
   "execution_count": null,
   "id": "7",
   "metadata": {},
   "outputs": [],
   "source": [
    "\n",
    "# Resonator (Oscillator) Parameters\n",
    "resonator = scq.Oscillator(\n",
    "    E_osc=6.5,  # Resonator frequency in GHz (typical range: 4–8 GHz)\n",
    ")\n",
    "\n",
    "display(\n",
    "    Math(rf\"\"\"\n",
    "\\textbf{{Resonator Parameters:}} \\\\\n",
    "\\text{{Frequency}}:\\ \\ {resonator.E_osc:.1f}\\ \\text{{GHz}} \\\\\n",
    "\"\"\")\n",
    ")\n",
    "\n",
    "# Create a coupled system using HilbertSpace\n",
    "hilbert_space = scq.HilbertSpace([transmon, resonator])\n",
    "\n",
    "# Add interaction between qubit and resonator\n",
    "# The interaction is typically g(n_qubit * (a + a†)) where n is the charge operator and a is the resonator annihilation operator\n",
    "g_coupling = 0.15  # Coupling strength in GHz (typical range: 0.05–0.3 GHz)\n",
    "interaction = scq.InteractionTerm(\n",
    "    g_strength=g_coupling,\n",
    "    operator_list=[\n",
    "        (0, transmon.n_operator),  # (subsystem_index, operator)\n",
    "        (1, resonator.annihilation_operator() + resonator.creation_operator()),\n",
    "    ],\n",
    ")\n",
    "hilbert_space.interaction_list = [interaction]\n",
    "\n",
    "\n",
    "display(Math(f\"g_{{\\\\text{{Qubit–Resonator}}}} = {g_coupling:.3f}\\\\,\\\\text{{GHz}}\"))\n",
    "\n",
    "# Calculate the coupled system eigenvalues\n",
    "coupled_eigenvals = hilbert_space.eigenvals(evals_count=10)\n",
    "print(f\"  Coupled system ground state: {coupled_eigenvals[0]:.3f} GHz\")"
   ]
  },
  {
   "cell_type": "markdown",
   "id": "8",
   "metadata": {},
   "source": [
    "## Physical (Lumped-element) Parameter Extraction\n",
    "\n",
    "From the quantum model, we can extract physical parameters relevant for PDK design.\n",
    "\n",
    "The coupling strength $g$ (in the dispersive limit $g\\ll \\omega_q, \\omega_r$) can be related to a coupling capacitance $C_c$ via {cite:p}`Savola2023`:\n",
    "```{align}\n",
    ":label: eq:coupling-capacitance\n",
    "g &\\approx \\frac{1}{2} \\frac{C_\\text{c}}{\\sqrt{C_{\\Sigma} \\left( C_\\text{r} - \\frac{C_\\text{c}^2}{C_\\text{q}} \\right) }}  \\sqrt{\\omega_\\text{q}\\omega_\\text{r}}\n",
    "&\\approx \\frac{1}{2} \\frac{C_\\text{c}}{\\sqrt{C_{\\Sigma} C_\\text{r}}}  \\sqrt{\\omega_\\text{q}\\omega_\\text{r}}, \\quad \\text{for } C_\\text{c} \\ll C_\\text{q}\n",
    "```\n",
    "where $C_\\Sigma$ is the total qubit capacitance, $C_{\\text{q}}$ is the capacitance between the qubit pads, and $C_r$ is the total capacitance of the resonator."
   ]
  },
  {
   "cell_type": "code",
   "execution_count": null,
   "id": "9",
   "metadata": {},
   "outputs": [],
   "source": [
    "# Calculate physical capacitance\n",
    "# The charging energy EC = e²/(2C_total), so C_Σ = e²/(2*EC)\n",
    "EC_joules = transmon.EC * 1e9 * scipy.constants.h  # Convert GHz to Joules\n",
    "\n",
    "# Total capacitance of the transmon\n",
    "C_Σ = scipy.constants.e**2 / (2 * EC_joules)\n",
    "\n",
    "# Josephson inductance - use typical realistic value\n",
    "# For EJ ~ 40 GHz, typical LJ ~ 0.8-1.0 nH\n",
    "# LJ scales inversely with EJ: LJ ~ 1.0 nH * (25 GHz / EJ)\n",
    "LJ_typical = 1.0e-9 * (25.0 / transmon.EJmax)  # Typical scaling\n",
    "\n",
    "# Compute coupling capacitance from coupling strength\n",
    "C_c_sym, C_Σ_sym, C_r_sym, omega_q_sym, omega_r_sym, g_sym = sp.symbols(\n",
    "    \"C_c C_Σ C_r omega_q omega_r g\", real=True, positive=True\n",
    ")\n",
    "equation = sp.Eq(\n",
    "    g_sym,\n",
    "    0.5 * (C_c_sym / sp.sqrt(C_Σ_sym * C_r_sym)) * sp.sqrt(omega_q_sym * omega_r_sym),\n",
    ")\n",
    "solution = sp.solve(equation, C_c_sym)\n",
    "C_c_sol = next(sol for sol in solution if sol.is_real and sol > 0)\n",
    "display(Math(f\"C_\\\\text{{c}} = {sp.latex(C_c_sol)}\"))\n",
    "\n",
    "\n",
    "# Use a typical value for resonator capacitance to ground\n",
    "resonator_media = cpw_media_skrf(width=10, gap=6)(\n",
    "    frequency=skrf.Frequency.from_f([5], unit=\"GHz\")\n",
    ")\n",
    "\n",
    "\n",
    "def _objective(length: float) -> float:\n",
    "    \"\"\"Find resonator length for target frequency using SciPy.\"\"\"\n",
    "    freq = resonator_frequency(\n",
    "        length=length, media=resonator_media, is_quarter_wave=True\n",
    "    )\n",
    "    return (freq - resonator.E_osc * 1e9) ** 2  # MSE\n",
    "\n",
    "\n",
    "length_initial = 4000.0  # Initial guess in µm\n",
    "result = scipy.optimize.minimize(_objective, length_initial, bounds=[(1000, 20000)])\n",
    "length = result.x[0]\n",
    "print(\n",
    "    f\"Optimization success: {result.success}, message: {result.message}, nfev: {result.nfev}\"\n",
    ")\n",
    "display(\n",
    "    Math(\n",
    "        f\"\\\\textrm{{Resonator length at width 10 µm and gap 6 µm}}\\\\,{resonator.E_osc:.1f}\\\\,\\\\mathrm{{GHz}}: {length:.1f}\\\\,\\\\mathrm{{µm}}\"\n",
    "    )\n",
    ")"
   ]
  },
  {
   "cell_type": "markdown",
   "id": "10",
   "metadata": {},
   "source": [
    "\n",
    "The total capacitance of the resonator can be estimated from its characteristic impedance\n",
    "$Z_0$ and phase velocity $v_p$ as {cite:p}`gopplCoplanarWaveguideResonators2008a`:\n",
    "```{math}\n",
    ":label: eq:resonator-capacitance\n",
    "C_r = \\frac{l}{\\mathrm{Re}(Z_0 v_p)}\n",
    "```\n",
    "where $l$ is the resonator length."
   ]
  },
  {
   "cell_type": "code",
   "execution_count": null,
   "id": "11",
   "metadata": {
    "lines_to_next_cell": 2
   },
   "outputs": [],
   "source": [
    "# Get total capacitance to ground of the resonator (in isolation, we disregard effect of coupling to qubits)\n",
    "C_r = 1 / np.real(resonator_media.z0 * resonator_media.v_p).mean() * length * 1e-6  # F\n",
    "\n",
    "# Substitute and evaluate numerically\n",
    "C_c_num = C_c_sol.subs(\n",
    "    {\n",
    "        g_sym: g_coupling,\n",
    "        C_Σ_sym: C_Σ,\n",
    "        C_r_sym: C_r,\n",
    "        omega_q_sym: f01,\n",
    "        omega_r_sym: resonator.E_osc,\n",
    "    }\n",
    ").evalf()\n",
    "\n",
    "display(\n",
    "    Math(rf\"\"\"\n",
    "\\textbf{{Physical Parameters for PDK Design:}}\\\\\n",
    "\\text{{Total qubit capacitance:}}~{C_Σ * 1e15:.1f}~\\mathrm{{fF}}\\\\\n",
    "\\text{{Josephson inductance:}}~{LJ_typical * 1e9:.2f}~\\mathrm{{nH}}\\\\\n",
    "\\text{{Estimated target qubit–resonator coupling capacitance:}}~{C_c_num * 1e15:.1f}~\\mathrm{{fF}}\n",
    "\"\"\")\n",
    ")"
   ]
  },
  {
   "cell_type": "markdown",
   "id": "12",
   "metadata": {},
   "source": [
    "## References\n",
    "\n",
    "```{bibliography}\n",
    ":filter: docname in docnames\n",
    "```"
   ]
  }
 ],
 "metadata": {
  "jupytext": {
   "main_language": "python"
  }
 },
 "nbformat": 4,
 "nbformat_minor": 5
}
