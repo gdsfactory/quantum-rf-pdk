{
 "cells": [
  {
   "cell_type": "markdown",
   "id": "0",
   "metadata": {},
   "source": [
    "# Model Comparison to Qucs-S\n",
    "\n",
    "This notebook compares the S-parameter models from qpdk (using sax) against reference\n",
    "results from Qucs-S simulations. Each test suite validates a different component model.\n",
    "\n",
    "The comparisons include:\n",
    "- Polar plots showing S-parameters in the complex plane\n",
    "- Magnitude and phase plots versus frequency\n",
    "- Visual validation of model accuracy against reference data"
   ]
  },
  {
   "cell_type": "code",
   "execution_count": null,
   "id": "1",
   "metadata": {
    "tags": [
     "hide-input",
     "hide-output"
    ]
   },
   "outputs": [],
   "source": [
    "import inspect\n",
    "\n",
    "# Add the tests directory to the path so we can import the test modules\n",
    "import sys\n",
    "\n",
    "from matplotlib import pyplot as plt\n",
    "\n",
    "from qpdk.config import PATH as QPDKPath\n",
    "\n",
    "test_module_path = QPDKPath.tests / \"models\"\n",
    "sys.path.insert(0, str(test_module_path.parent))\n",
    "\n",
    "from models.test_compare_to_qucs import BaseCompareToQucs  # noqa: E402"
   ]
  },
  {
   "cell_type": "markdown",
   "id": "2",
   "metadata": {
    "lines_to_next_cell": 2
   },
   "source": [
    "## Discover Test Suites\n",
    "\n",
    "Dynamically discover all test suite classes that compare qpdk models to Qucs-S results.\n",
    "We find all classes that:\n",
    "1. Are subclasses of `BaseCompareToQucs`\n",
    "2. Are not the base class itself\n",
    "3. Are concrete classes (not abstract)"
   ]
  },
  {
   "cell_type": "code",
   "execution_count": null,
   "id": "3",
   "metadata": {
    "tags": [
     "hide-input"
    ]
   },
   "outputs": [],
   "source": [
    "def discover_test_suites() -> list[type[BaseCompareToQucs]]:\n",
    "    \"\"\"Discover all test suite classes for Qucs-S comparison.\n",
    "\n",
    "    Returns:\n",
    "        List of test suite classes that inherit from BaseCompareToQucs.\n",
    "    \"\"\"\n",
    "    # Import the module to get all classes\n",
    "    from models import test_compare_to_qucs\n",
    "\n",
    "    test_suites = []\n",
    "\n",
    "    # Get all members of the module\n",
    "    for _name, obj in inspect.getmembers(test_compare_to_qucs):\n",
    "        # Check if it's a class\n",
    "        if not inspect.isclass(obj):\n",
    "            continue\n",
    "\n",
    "        # Check if it's a subclass of BaseCompareToQucs but not the base class itself\n",
    "        if not issubclass(obj, BaseCompareToQucs) or obj is BaseCompareToQucs:\n",
    "            continue\n",
    "\n",
    "        # Check if it's a concrete class (not abstract)\n",
    "        if inspect.isabstract(obj):\n",
    "            continue\n",
    "\n",
    "        test_suites.append(obj)\n",
    "\n",
    "    return test_suites"
   ]
  },
  {
   "cell_type": "code",
   "execution_count": null,
   "id": "4",
   "metadata": {},
   "outputs": [],
   "source": [
    "# Discover all available test suites\n",
    "test_suites = discover_test_suites()\n",
    "print(f\"Found {len(test_suites)} test suite(s):\")\n",
    "for suite in test_suites:\n",
    "    print(f\"  - {suite.__name__}\")"
   ]
  },
  {
   "cell_type": "markdown",
   "id": "5",
   "metadata": {},
   "source": [
    "## Capacitor Model Comparison\n",
    "\n",
    "Compare the capacitor S-parameter model against Qucs-S reference data.\n",
    "The capacitor is modeled as a lumped element with a given capacitance value of $60\\,\\mathrm{fF}$."
   ]
  },
  {
   "cell_type": "code",
   "execution_count": null,
   "id": "6",
   "metadata": {},
   "outputs": [],
   "source": [
    "# Find and plot the capacitor test suite\n",
    "capacitor_suite = next(\n",
    "    (suite for suite in test_suites if \"Capacitor\" in suite.__name__), None\n",
    ")\n",
    "\n",
    "if capacitor_suite:\n",
    "    plt.figure(figsize=(14, 6))\n",
    "    test_instance = capacitor_suite()\n",
    "    test_instance.plot_comparison()\n",
    "else:\n",
    "    print(\"Capacitor test suite not found\")"
   ]
  },
  {
   "cell_type": "markdown",
   "id": "7",
   "metadata": {},
   "source": [
    "## Inductor Model Comparison\n",
    "\n",
    "Compare the inductor S-parameter model against Qucs-S reference data.\n",
    "The inductor is modeled as a lumped element with a given inductance value of $10\\,\\mathrm{nH}$."
   ]
  },
  {
   "cell_type": "code",
   "execution_count": null,
   "id": "8",
   "metadata": {},
   "outputs": [],
   "source": [
    "# Find and plot the inductor test suite\n",
    "inductor_suite = next(\n",
    "    (suite for suite in test_suites if \"Inductor\" in suite.__name__), None\n",
    ")\n",
    "\n",
    "if inductor_suite:\n",
    "    plt.figure(figsize=(14, 6))\n",
    "    test_instance = inductor_suite()\n",
    "    test_instance.plot_comparison()\n",
    "else:\n",
    "    print(\"Inductor test suite not found\")"
   ]
  },
  {
   "cell_type": "markdown",
   "id": "9",
   "metadata": {},
   "source": [
    "## Coplanar Waveguide (CPW) Model Comparison\n",
    "\n",
    "Compare the coplanar waveguide (CPW) transmission line model against Qucs-S reference data.\n",
    "The CPW is modeled using scikit-rf media models with specified geometry parameters."
   ]
  },
  {
   "cell_type": "code",
   "execution_count": null,
   "id": "10",
   "metadata": {},
   "outputs": [],
   "source": [
    "# Find and plot the CPW test suite\n",
    "cpw_suite = next((suite for suite in test_suites if \"CPW\" in suite.__name__), None)\n",
    "\n",
    "if cpw_suite:\n",
    "    plt.figure(figsize=(14, 6))\n",
    "    test_instance = cpw_suite()\n",
    "    test_instance.plot_comparison()\n",
    "else:\n",
    "    print(\"CPW test suite not found\")"
   ]
  },
  {
   "cell_type": "markdown",
   "id": "11",
   "metadata": {},
   "source": [
    "## Summary\n",
    "\n",
    "The plots above show comparisons between qpdk models (dashed lines) and Qucs-S\n",
    "reference simulations (solid lines) for various passive components:\n",
    "\n",
    "- **Left plot**: Polar representation showing S-parameters in the complex plane\n",
    "- **Right plot**: Magnitude (in dB) and phase (in radians) versus frequency\n",
    "\n",
    "Good agreement between the models validates the accuracy of the qpdk implementations\n",
    "for use in circuit simulations and design optimization."
   ]
  }
 ],
 "metadata": {
  "jupytext": {
   "main_language": "python"
  }
 },
 "nbformat": 4,
 "nbformat_minor": 5
}
